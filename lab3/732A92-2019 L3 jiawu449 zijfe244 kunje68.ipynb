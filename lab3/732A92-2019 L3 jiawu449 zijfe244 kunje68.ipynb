{
 "cells": [
  {
   "cell_type": "markdown",
   "metadata": {},
   "source": [
    "# L3: Text clustering and topic modelling"
   ]
  },
  {
   "cell_type": "markdown",
   "metadata": {},
   "source": [
    "Text clustering groups documents in such a way that documents within a group are more &lsquo;similar&rsquo; to other documents in the cluster than to documents not in the cluster. The exact definition of what &lsquo;similar&rsquo; means in this context varies across applications and clustering algorithms.\n",
    "\n",
    "In this lab you will experiment with both hard and soft clustering techniques. More specifically, in the first part you will be using the $k$-means algorithm, and in the second part you will be using a topic model based on the Latent Dirichlet Allocation (LDA)."
   ]
  },
  {
   "cell_type": "markdown",
   "metadata": {},
   "source": [
    "## Hard clustering data set"
   ]
  },
  {
   "cell_type": "markdown",
   "metadata": {},
   "source": [
    "The raw data for the hard clustering part of this lab is a collection of product reviews. We have preprocessed the data by tokenization and lowercasing."
   ]
  },
  {
   "cell_type": "code",
   "execution_count": 2,
   "metadata": {},
   "outputs": [],
   "source": [
    "import pandas as pd\n",
    "import bz2\n",
    "\n",
    "with bz2.open(\"reviews.json.bz2\") as source:\n",
    "    df = pd.read_json(source)"
   ]
  },
  {
   "cell_type": "markdown",
   "metadata": {},
   "source": [
    "When you inspect the data frame, you can see that there are three labelled columns: `category` (the product category), `sentiment` (whether the product review was classified as &lsquo;positive&rsquo; or &lsquo;negative&rsquo; towards the product), and `text` (the space-separated text of the review)."
   ]
  },
  {
   "cell_type": "code",
   "execution_count": 3,
   "metadata": {},
   "outputs": [
    {
     "data": {
      "text/html": [
       "<div>\n",
       "<style scoped>\n",
       "    .dataframe tbody tr th:only-of-type {\n",
       "        vertical-align: middle;\n",
       "    }\n",
       "\n",
       "    .dataframe tbody tr th {\n",
       "        vertical-align: top;\n",
       "    }\n",
       "\n",
       "    .dataframe thead th {\n",
       "        text-align: right;\n",
       "    }\n",
       "</style>\n",
       "<table border=\"1\" class=\"dataframe\">\n",
       "  <thead>\n",
       "    <tr style=\"text-align: right;\">\n",
       "      <th></th>\n",
       "      <th>category</th>\n",
       "      <th>sentiment</th>\n",
       "      <th>text</th>\n",
       "    </tr>\n",
       "  </thead>\n",
       "  <tbody>\n",
       "    <tr>\n",
       "      <td>0</td>\n",
       "      <td>music</td>\n",
       "      <td>neg</td>\n",
       "      <td>i bought this album because i loved the title ...</td>\n",
       "    </tr>\n",
       "    <tr>\n",
       "      <td>1</td>\n",
       "      <td>music</td>\n",
       "      <td>neg</td>\n",
       "      <td>i was misled and thought i was buying the enti...</td>\n",
       "    </tr>\n",
       "    <tr>\n",
       "      <td>2</td>\n",
       "      <td>books</td>\n",
       "      <td>neg</td>\n",
       "      <td>i have introduced many of my ell , high school...</td>\n",
       "    </tr>\n",
       "    <tr>\n",
       "      <td>3</td>\n",
       "      <td>books</td>\n",
       "      <td>pos</td>\n",
       "      <td>anything you purchase in the left behind serie...</td>\n",
       "    </tr>\n",
       "    <tr>\n",
       "      <td>4</td>\n",
       "      <td>dvd</td>\n",
       "      <td>pos</td>\n",
       "      <td>i loved these movies , and i cant wiat for the...</td>\n",
       "    </tr>\n",
       "  </tbody>\n",
       "</table>\n",
       "</div>"
      ],
      "text/plain": [
       "  category sentiment                                               text\n",
       "0    music       neg  i bought this album because i loved the title ...\n",
       "1    music       neg  i was misled and thought i was buying the enti...\n",
       "2    books       neg  i have introduced many of my ell , high school...\n",
       "3    books       pos  anything you purchase in the left behind serie...\n",
       "4      dvd       pos  i loved these movies , and i cant wiat for the..."
      ]
     },
     "execution_count": 3,
     "metadata": {},
     "output_type": "execute_result"
    }
   ],
   "source": [
    "df.head()"
   ]
  },
  {
   "cell_type": "markdown",
   "metadata": {},
   "source": [
    "## Problem 1: K-means clustering"
   ]
  },
  {
   "cell_type": "markdown",
   "metadata": {},
   "source": [
    "Your first task is to cluster the product review data using a tf–idf vectorizer and a $k$-means clusterer."
   ]
  },
  {
   "cell_type": "markdown",
   "metadata": {},
   "source": [
    "Start by doing the vectorization. In connection with vectorization, you should also filter out standard English stop words. While you could use [spaCy](https://spacy.io/) for this task, here it suffices to use the word list implemented in [TfidfVectorizer](https://scikit-learn.org/stable/modules/generated/sklearn.feature_extraction.text.TfidfVectorizer.html)."
   ]
  },
  {
   "cell_type": "code",
   "execution_count": 4,
   "metadata": {},
   "outputs": [],
   "source": [
    "# TODO: Enter code here to vectorize the data\n",
    "from sklearn.feature_extraction.text import TfidfVectorizer\n",
    "vectorizer = TfidfVectorizer(stop_words='english')\n",
    "corpus = df['text']\n",
    "reviews = vectorizer.fit_transform(corpus)"
   ]
  },
  {
   "cell_type": "markdown",
   "metadata": {},
   "source": [
    "Test your vectorization by running the following code cell:"
   ]
  },
  {
   "cell_type": "code",
   "execution_count": 5,
   "metadata": {},
   "outputs": [
    {
     "data": {
      "text/plain": [
       "(11914, 46619)"
      ]
     },
     "execution_count": 5,
     "metadata": {},
     "output_type": "execute_result"
    }
   ],
   "source": [
    "reviews.shape"
   ]
  },
  {
   "cell_type": "markdown",
   "metadata": {},
   "source": [
    "If you used the English stop word list from scikit-learn, then the resulting vocabulary should have 46,619 entries."
   ]
  },
  {
   "cell_type": "markdown",
   "metadata": {},
   "source": [
    "Next, cluster the vectorized data. Before doing so, you should read the documentation of the [KMeans](https://scikit-learn.org/stable/modules/generated/sklearn.cluster.KMeans.html) class, which is scikit-learn&rsquo;s implementation of the $k$-means algorithm. As you can see, this class has several parameters that you can tweak. For now, the only parameter that you will have to set is the number of clusters. We recommend that you choose $k=3$.\n",
    "\n",
    "**Tip:** Training $k$-means models will take some time. To speed things up, you can use the `n_init` parameter to control the number of times that the clustering is re-computed with different initial values. The default value for this parameter is 10; here and in the rest of this lab, you may want to set this to a lower value."
   ]
  },
  {
   "cell_type": "code",
   "execution_count": 6,
   "metadata": {},
   "outputs": [
    {
     "data": {
      "text/plain": [
       "KMeans(algorithm='auto', copy_x=True, init='k-means++', max_iter=300,\n",
       "       n_clusters=3, n_init=5, n_jobs=None, precompute_distances='auto',\n",
       "       random_state=0, tol=0.0001, verbose=0)"
      ]
     },
     "execution_count": 6,
     "metadata": {},
     "output_type": "execute_result"
    }
   ],
   "source": [
    "# TODO: Enter code here to cluster the vectorized data\n",
    "from sklearn.cluster import KMeans\n",
    "kmeans = KMeans(n_clusters=3, random_state=0, n_init=5)\n",
    "kmeans.fit(reviews)"
   ]
  },
  {
   "cell_type": "markdown",
   "metadata": {},
   "source": [
    "To sanity-check your clustering, create a bar plot with the number of documents per cluster."
   ]
  },
  {
   "cell_type": "code",
   "execution_count": 14,
   "metadata": {},
   "outputs": [
    {
     "data": {
      "text/plain": [
       "<matplotlib.axes._subplots.AxesSubplot at 0x1e10efd35c8>"
      ]
     },
     "execution_count": 14,
     "metadata": {},
     "output_type": "execute_result"
    },
    {
     "data": {
      "image/png": "[encoded data removed]",
      "text/plain": [
       "<Figure size 432x288 with 1 Axes>"
      ]
     },
     "metadata": {
      "needs_background": "light"
     },
     "output_type": "display_data"
    }
   ],
   "source": [
    "# TODO: Enter code here to produce a bar plot of the cluster size\n",
    "import matplotlib.pyplot as plt\n",
    "import numpy as np\n",
    "\n",
    "pd.value_counts(kmeans.labels_).plot(kind='bar', rot=0)"
   ]
  },
  {
   "cell_type": "markdown",
   "metadata": {},
   "source": [
    "Note that sizes may vary considerable between clusters and among different random seeds."
   ]
  },
  {
   "cell_type": "markdown",
   "metadata": {},
   "source": [
    "## Problem 2: Summarize clusters"
   ]
  },
  {
   "cell_type": "markdown",
   "metadata": {},
   "source": [
    "Once you have a clustering, you can try to see whether it is meaningful. One useful technique in that context is to generate a **summary** for each cluster by extracting the $n$ highest-weighted terms from the centroid of each cluster. Your next task is to implement this approach.\n",
    "\n",
    "**Hint:** You will need to construct an &lsquo;inverted vocabulary&rsquo; that allows you to map from the index of a term back to the original term."
   ]
  },
  {
   "cell_type": "code",
   "execution_count": 107,
   "metadata": {},
   "outputs": [
    {
     "data": {
      "text/html": [
       "<div>\n",
       "<style scoped>\n",
       "    .dataframe tbody tr th:only-of-type {\n",
       "        vertical-align: middle;\n",
       "    }\n",
       "\n",
       "    .dataframe tbody tr th {\n",
       "        vertical-align: top;\n",
       "    }\n",
       "\n",
       "    .dataframe thead th {\n",
       "        text-align: right;\n",
       "    }\n",
       "</style>\n",
       "<table border=\"1\" class=\"dataframe\">\n",
       "  <thead>\n",
       "    <tr style=\"text-align: right;\">\n",
       "      <th></th>\n",
       "      <th>0</th>\n",
       "      <th>1</th>\n",
       "      <th>2</th>\n",
       "    </tr>\n",
       "  </thead>\n",
       "  <tbody>\n",
       "    <tr>\n",
       "      <td>0</td>\n",
       "      <td>great</td>\n",
       "      <td>good</td>\n",
       "      <td>just</td>\n",
       "    </tr>\n",
       "    <tr>\n",
       "      <td>1</td>\n",
       "      <td>quality</td>\n",
       "      <td>quot</td>\n",
       "      <td>easy</td>\n",
       "    </tr>\n",
       "    <tr>\n",
       "      <td>2</td>\n",
       "      <td>battery</td>\n",
       "      <td>great</td>\n",
       "      <td>work</td>\n",
       "    </tr>\n",
       "    <tr>\n",
       "      <td>3</td>\n",
       "      <td>flash</td>\n",
       "      <td>music</td>\n",
       "      <td>used</td>\n",
       "    </tr>\n",
       "    <tr>\n",
       "      <td>4</td>\n",
       "      <td>use</td>\n",
       "      <td>just</td>\n",
       "      <td>great</td>\n",
       "    </tr>\n",
       "    <tr>\n",
       "      <td>5</td>\n",
       "      <td>digital</td>\n",
       "      <td>cd</td>\n",
       "      <td>program</td>\n",
       "    </tr>\n",
       "    <tr>\n",
       "      <td>6</td>\n",
       "      <td>canon</td>\n",
       "      <td>album</td>\n",
       "      <td>does</td>\n",
       "    </tr>\n",
       "    <tr>\n",
       "      <td>7</td>\n",
       "      <td>pictures</td>\n",
       "      <td>like</td>\n",
       "      <td>software</td>\n",
       "    </tr>\n",
       "    <tr>\n",
       "      <td>8</td>\n",
       "      <td>lens</td>\n",
       "      <td>movie</td>\n",
       "      <td>use</td>\n",
       "    </tr>\n",
       "    <tr>\n",
       "      <td>9</td>\n",
       "      <td>camera</td>\n",
       "      <td>book</td>\n",
       "      <td>product</td>\n",
       "    </tr>\n",
       "  </tbody>\n",
       "</table>\n",
       "</div>"
      ],
      "text/plain": [
       "          0      1         2\n",
       "0     great   good      just\n",
       "1   quality   quot      easy\n",
       "2   battery  great      work\n",
       "3     flash  music      used\n",
       "4       use   just     great\n",
       "5   digital     cd   program\n",
       "6     canon  album      does\n",
       "7  pictures   like  software\n",
       "8      lens  movie       use\n",
       "9    camera   book   product"
      ]
     },
     "execution_count": 107,
     "metadata": {},
     "output_type": "execute_result"
    }
   ],
   "source": [
    "def summary_fn(X, n, kmeans):\n",
    "    centroids = kmeans.cluster_centers_\n",
    "    terms_map = {value: key for key, value in vectorizer.vocabulary_.items()}\n",
    "\n",
    "    wordss = list(vectorizer.vocabulary_.keys())\n",
    "    valuess = list(vectorizer.vocabulary_.values())\n",
    "\n",
    "    highest_terms = np.argsort(centroids, axis=1)[:, -n:]\n",
    "\n",
    "    highest_terms\n",
    "    newdata = pd.DataFrame([wordss[valuess.index(idx)] for idx in highest_terms[0,:]])\n",
    "    \n",
    "    for i in range(1,highest_terms.shape[0]):\n",
    "        idxx = highest_terms[i,:]\n",
    "        df = pd.DataFrame({i:[wordss[valuess.index(idx)] for idx in idxx]})\n",
    "        newdata = pd.concat([newdata, df],axis=1)\n",
    "    \n",
    "    return newdata\n",
    "summary_fn(reviews, 10, kmeans)"
   ]
  },
  {
   "cell_type": "code",
   "execution_count": 109,
   "metadata": {},
   "outputs": [
    {
     "data": {
      "text/html": [
       "<div>\n",
       "<style scoped>\n",
       "    .dataframe tbody tr th:only-of-type {\n",
       "        vertical-align: middle;\n",
       "    }\n",
       "\n",
       "    .dataframe tbody tr th {\n",
       "        vertical-align: top;\n",
       "    }\n",
       "\n",
       "    .dataframe thead th {\n",
       "        text-align: right;\n",
       "    }\n",
       "</style>\n",
       "<table border=\"1\" class=\"dataframe\">\n",
       "  <thead>\n",
       "    <tr style=\"text-align: right;\">\n",
       "      <th></th>\n",
       "      <th>0</th>\n",
       "      <th>1</th>\n",
       "      <th>2</th>\n",
       "      <th>3</th>\n",
       "      <th>4</th>\n",
       "      <th>5</th>\n",
       "    </tr>\n",
       "  </thead>\n",
       "  <tbody>\n",
       "    <tr>\n",
       "      <td>0</td>\n",
       "      <td>does</td>\n",
       "      <td>band</td>\n",
       "      <td>acting</td>\n",
       "      <td>dvd</td>\n",
       "      <td>written</td>\n",
       "      <td>great</td>\n",
       "    </tr>\n",
       "    <tr>\n",
       "      <td>1</td>\n",
       "      <td>used</td>\n",
       "      <td>great</td>\n",
       "      <td>great</td>\n",
       "      <td>did</td>\n",
       "      <td>just</td>\n",
       "      <td>quality</td>\n",
       "    </tr>\n",
       "    <tr>\n",
       "      <td>2</td>\n",
       "      <td>support</td>\n",
       "      <td>just</td>\n",
       "      <td>good</td>\n",
       "      <td>time</td>\n",
       "      <td>quot</td>\n",
       "      <td>battery</td>\n",
       "    </tr>\n",
       "    <tr>\n",
       "      <td>3</td>\n",
       "      <td>easy</td>\n",
       "      <td>like</td>\n",
       "      <td>just</td>\n",
       "      <td>does</td>\n",
       "      <td>like</td>\n",
       "      <td>flash</td>\n",
       "    </tr>\n",
       "    <tr>\n",
       "      <td>4</td>\n",
       "      <td>computer</td>\n",
       "      <td>song</td>\n",
       "      <td>story</td>\n",
       "      <td>use</td>\n",
       "      <td>story</td>\n",
       "      <td>use</td>\n",
       "    </tr>\n",
       "    <tr>\n",
       "      <td>5</td>\n",
       "      <td>version</td>\n",
       "      <td>quot</td>\n",
       "      <td>watch</td>\n",
       "      <td>hair</td>\n",
       "      <td>reading</td>\n",
       "      <td>digital</td>\n",
       "    </tr>\n",
       "    <tr>\n",
       "      <td>6</td>\n",
       "      <td>use</td>\n",
       "      <td>songs</td>\n",
       "      <td>like</td>\n",
       "      <td>just</td>\n",
       "      <td>author</td>\n",
       "      <td>canon</td>\n",
       "    </tr>\n",
       "    <tr>\n",
       "      <td>7</td>\n",
       "      <td>program</td>\n",
       "      <td>music</td>\n",
       "      <td>movies</td>\n",
       "      <td>good</td>\n",
       "      <td>books</td>\n",
       "      <td>pictures</td>\n",
       "    </tr>\n",
       "    <tr>\n",
       "      <td>8</td>\n",
       "      <td>software</td>\n",
       "      <td>cd</td>\n",
       "      <td>film</td>\n",
       "      <td>like</td>\n",
       "      <td>read</td>\n",
       "      <td>lens</td>\n",
       "    </tr>\n",
       "    <tr>\n",
       "      <td>9</td>\n",
       "      <td>product</td>\n",
       "      <td>album</td>\n",
       "      <td>movie</td>\n",
       "      <td>great</td>\n",
       "      <td>book</td>\n",
       "      <td>camera</td>\n",
       "    </tr>\n",
       "  </tbody>\n",
       "</table>\n",
       "</div>"
      ],
      "text/plain": [
       "          0      1       2      3        4         5\n",
       "0      does   band  acting    dvd  written     great\n",
       "1      used  great   great    did     just   quality\n",
       "2   support   just    good   time     quot   battery\n",
       "3      easy   like    just   does     like     flash\n",
       "4  computer   song   story    use    story       use\n",
       "5   version   quot   watch   hair  reading   digital\n",
       "6       use  songs    like   just   author     canon\n",
       "7   program  music  movies   good    books  pictures\n",
       "8  software     cd    film   like     read      lens\n",
       "9   product  album   movie  great     book    camera"
      ]
     },
     "execution_count": 109,
     "metadata": {},
     "output_type": "execute_result"
    }
   ],
   "source": [
    "kmeans6 = KMeans(n_clusters=6, random_state=0, n_init=3)\n",
    "kmeans6.fit(reviews)\n",
    "summary_fn(reviews, 10, kmeans6)"
   ]
  },
  {
   "cell_type": "code",
   "execution_count": 113,
   "metadata": {
    "scrolled": true
   },
   "outputs": [
    {
     "name": "stdout",
     "output_type": "stream",
     "text": [
      "        0      1         2\n",
      "0  camera  books  software\n",
      "1  camera  books    health\n",
      "2  camera  books  software\n",
      "3  camera  books    camera\n",
      "4  camera  music    health\n",
      "5  camera  books  software\n",
      "6  camera  music  software\n",
      "7  camera    dvd  software\n",
      "8  camera  music  software\n",
      "9  camera  music  software\n",
      "          0      1    2       3      4       5\n",
      "0  software  music  dvd  health  books  camera\n",
      "1  software  music  dvd  health  books  camera\n",
      "2  software  music  dvd  health  books  camera\n",
      "3  software  music  dvd  health  books  camera\n",
      "4  software  music  dvd  health  books  camera\n",
      "5  software  music  dvd  camera  books  camera\n",
      "6  software  music  dvd  health  books  camera\n",
      "7  software  music  dvd  health  books  camera\n",
      "8  software  music  dvd  health  books  camera\n",
      "9  software  music  dvd  health  books  camera\n"
     ]
    }
   ],
   "source": [
    "def get_n_closest_points(X, n, kmeans):\n",
    "    dist = kmeans.transform(X)\n",
    "    prd = kmeans.predict(X)\n",
    "    data = pd.DataFrame(dist)\n",
    "    \n",
    "    data['id']=range(len(data))    # dist to 0, dist to 1, dist to 2\n",
    "    df['id']=range(len(df))\n",
    "    newdata = pd.merge(data, df, how='left', on='id')\n",
    "    cate = pd.DataFrame(columns = range(dist.shape[1]))\n",
    "    for i in range(dist.shape[1]):      # newdata[pred == i] removes all terms which not belong to the present cluster\n",
    "        cate[i] = newdata[prd == i].sort_values(by=i)[:n]['category'].values\n",
    "    return cate\n",
    "\n",
    "print(get_n_closest_points(reviews, 10, kmeans))\n",
    "print(get_n_closest_points(reviews, 10, kmeans6))"
   ]
  },
  {
   "cell_type": "code",
   "execution_count": 114,
   "metadata": {},
   "outputs": [],
   "source": [
    "# dist = kmeans.transform(reviews)\n",
    "# prd = kmeans.predict(reviews)\n",
    "# data = pd.DataFrame(dist)\n",
    "\n",
    "# data['id']=range(len(data))    # dist to 0, dist to 1, dist to 2\n",
    "# df['id']=range(len(df))\n",
    "\n",
    "# newdata = pd.merge(data, df, how='left', on='id')\n",
    "# k=newdata[kmeans.labels_ == 2].sort_values(by=2)['category']\n",
    "# print(pd.value_counts(k))\n",
    "# print(df['category'].unique())"
   ]
  },
  {
   "cell_type": "markdown",
   "metadata": {},
   "source": [
    "Once you have computed the cluster summaries, discuss their quality. Is it clear what the reviews in a given cluster are about? Which clusters are clearest? Which are less clear? Do the cluster summaries contain any unexpected terms? What happens if you re-cluster with, say, $k=6$?"
   ]
  },
  {
   "cell_type": "markdown",
   "metadata": {},
   "source": [
    "*TODO: Insert your analysis of the clusters here*\n",
    "\n",
    "**Answer**:\n",
    "\n",
    "It seems 3-means algorithm can seperate the text about *camera* from all other categories the clearest, even there are still some missfication for *camera*. The reason might be that text including such words as `lens`, `camera` or `canon` can be defined as *camera* easily. On contrast, other categories are hard to distingish, for instance *music*, *dvd* and *books*, since such words `album`, `quot` or `music` appear frequently. If we set *k=6*, the results seem much better than the one from *k=3*."
   ]
  },
  {
   "cell_type": "markdown",
   "metadata": {},
   "source": [
    "## Problem 3: Tune the k-means algorithm"
   ]
  },
  {
   "cell_type": "markdown",
   "metadata": {},
   "source": [
    "A major limitation of the $k$-means algorithm is that one has to manually set the value for $k$, the number of clusters. One heuristic that can help you with this is the [Elbow method](https://en.wikipedia.org/wiki/Elbow_method_(clustering)). Your next task is to implement this method to see whether it allows you to find a better value for $k$.\n",
    "\n",
    "To follow the elbow method, you should plot different values of $k$ against the **inertia** (sums of squared distances between documents and closest centroids) of the fitted $k$-means model, and pick the $k$ at the &lsquo;elbow point&rsquo; of the resulting graph. Test cluster sizes between 1 and 9.\n",
    "\n",
    "**Note that this will take a while.**"
   ]
  },
  {
   "cell_type": "code",
   "execution_count": 9,
   "metadata": {},
   "outputs": [
    {
     "data": {
      "text/plain": [
       "<matplotlib.axes._subplots.AxesSubplot at 0x1d7ef974408>"
      ]
     },
     "execution_count": 9,
     "metadata": {},
     "output_type": "execute_result"
    },
    {
     "data": {
      "image/png": "[encoded data removed]",
      "text/plain": [
       "<Figure size 432x288 with 1 Axes>"
      ]
     },
     "metadata": {
      "needs_background": "light"
     },
     "output_type": "display_data"
    }
   ],
   "source": [
    "# TODO: Enter code here to generate the plot for the elbow method\n",
    "EMS = []\n",
    "for i in range(9):\n",
    "    kms = KMeans(n_clusters=i+1, n_init=3).fit(reviews).inertia_\n",
    "    EMS.append(kms)\n",
    "    \n",
    "pd.Series(EMS).plot()"
   ]
  },
  {
   "cell_type": "markdown",
   "metadata": {},
   "source": [
    "Once you have the diagram, can you see a pronounced &lsquo;elbow point&rsquo;? Discuss your findings in a short text."
   ]
  },
  {
   "cell_type": "markdown",
   "metadata": {},
   "source": [
    "*TODO: Insert your discussion of the elbow method here*\n",
    "\n",
    "**Answer:**\n",
    "\n",
    "There is no pronounced elbow point in such plot. It seems that Elbow method may not be a good choice for this question."
   ]
  },
  {
   "cell_type": "markdown",
   "metadata": {},
   "source": [
    "## Problem 4: Compare clusterings using the Rand index"
   ]
  },
  {
   "cell_type": "markdown",
   "metadata": {},
   "source": [
    "In some scenarios, you may have gold-standard class labels available for at least a subset of your documents. In these cases you can compute the **Rand index** of a clustering, and use this measure to compare the quality of different clusterings.\n",
    "\n",
    "To compute the Rand index, we view a clustering as a binary classifier on pairs of documents. The classifier predicts &lsquo;positive&rsquo; if and only if the two documents belong to the same cluster. The (non-normalized) Rand index of the clustering is the accuracy of this classifier relative to a reference in which a document pair belongs to the &lsquo;positive&rsquo; class if and only if the two documents in the pair have the same gold-standard class label.\n",
    "\n",
    "Compare a clustering with $k=3$ clusters to a second clustering with $k=6$ clusters. As your evaluation data, use the first 500 documents from the original data set along with their gold-standard categories (from the `category` column). What do you observe? How do you interpret your observations? What arguments can you find against the Rand index as a measure for comparing clusterings?"
   ]
  },
  {
   "cell_type": "code",
   "execution_count": 10,
   "metadata": {},
   "outputs": [],
   "source": [
    "data = {'true':df['category'],\n",
    "       'pred':kmeans.predict(reviews),\n",
    "       'index':range(df.shape[0])}\n",
    "data4_3 = pd.DataFrame(data).iloc[:500]\n",
    "\n",
    "\n",
    "kmeans6 = KMeans(n_clusters=6,n_init=3).fit(reviews)\n",
    "data = {'true':df['category'],\n",
    "       'pred':kmeans6.predict(reviews),\n",
    "       'index':range(df.shape[0])}\n",
    "data4_6 = pd.DataFrame(data).iloc[:500]\n",
    "\n",
    "def rand_index(data4):\n",
    "    n = data4.shape[0]\n",
    "    tp = 0                 # true positive\n",
    "    for i in range(n):\n",
    "        if(i>0):\n",
    "            for j in range(i):\n",
    "                a = data4.iloc[i]\n",
    "                b = data4.iloc[j]\n",
    "                if (a['true']==b['true'] and a['pred']==b['pred']):\n",
    "                    tp += 1 \n",
    "    return( tp/(n*(n-1)/2) )\n"
   ]
  },
  {
   "cell_type": "code",
   "execution_count": 11,
   "metadata": {},
   "outputs": [
    {
     "name": "stdout",
     "output_type": "stream",
     "text": [
      "0.1362565130260521\n",
      "0.10004809619238476\n"
     ]
    }
   ],
   "source": [
    "res4_3 = rand_index(data4_3)\n",
    "res4_6 = rand_index(data4_6)\n",
    "print(res4_3)\n",
    "print(res4_6)"
   ]
  },
  {
   "cell_type": "markdown",
   "metadata": {},
   "source": [
    "*TODO: Insert your discussion of your results here*\n",
    "\n",
    "**Answer**:\n",
    "\n",
    "The rand index of 3-means is higher than the one from 6-means, which means that clustering the original data as 3 classes totally is better than as the number of classes it originally has. One of the reason might be some categories are very hard to distingish, thereby preferring to treat as one class.\n",
    "\n",
    "The size of gold-standard class could be one of the arguments. In addition, false negative, false positive and true negative pairs could also be other 3 arguments that whether we need to consider into the rand index."
   ]
  },
  {
   "cell_type": "markdown",
   "metadata": {},
   "source": [
    "## Topic modelling data set"
   ]
  },
  {
   "cell_type": "markdown",
   "metadata": {},
   "source": [
    "The data set for the topic modelling part of this lab is the collection of all [State of the Union](https://en.wikipedia.org/wiki/State_of_the_Union) addresses from the years 1975–2000. These speeches come as a single text file with one sentence per line. The following code cell prints the first 5 lines from the data file:"
   ]
  },
  {
   "cell_type": "code",
   "execution_count": 12,
   "metadata": {},
   "outputs": [
    {
     "name": "stdout",
     "output_type": "stream",
     "text": [
      "mr speaker mr vice president members of the 94th congress and distinguished guests\n",
      "twenty six years ago a freshman congressman a young fellow with lots of idealism who was out to change the world stood before sam rayburn in the well of the house and solemnly swore to the same oath that all of you took yesterday an unforgettable experience and i congratulate you all\n",
      "two days later that same freshman stood at the back of this great chamber over there someplace as president truman all charged up by his single handed election victory reported as the constitution requires on the state of the union\n",
      "when the bipartisan applause stopped president truman said i am happy to report to this 81st congress that the state of the union is good our nation is better able than ever before to meet the needs of the american people and to give them their fair chance in the pursuit of happiness it is foremost among the nations of the world in the search for peace\n",
      "today that freshman member from michigan stands where mr truman stood and i must say to you that the state of the union is not good\n",
      "millions of americans are out of work\n"
     ]
    }
   ],
   "source": [
    "with open(\"sotu_1975_2000.txt\") as source:\n",
    "    for i, line in enumerate(source):\n",
    "        print(line.rstrip())\n",
    "        if i >= 5:\n",
    "            break"
   ]
  },
  {
   "cell_type": "markdown",
   "metadata": {},
   "source": [
    "## Problem 5: Train a topic model"
   ]
  },
  {
   "cell_type": "markdown",
   "metadata": {},
   "source": [
    "Your first task on the topic modelling data is to train an LDA model. For this task you will be using [spaCy](https://spacy.io/) and the [gensim](https://radimrehurek.com/gensim/) topic modelling library.\n",
    "\n",
    "Start by preprocessing the data using spaCy. Given that the data set for this problem is rather small, you do not have to exclude any components from the standard pipeline. Filter out stop words, non-alphabetic tokens, and tokens less than 3 characters in length. Store the documents as a nested list where the first level of nesting corresponds to the sentences and the second level corresponds to the tokens in each sentence."
   ]
  },
  {
   "cell_type": "code",
   "execution_count": 13,
   "metadata": {},
   "outputs": [],
   "source": [
    "# TODO: Replace the following lines with your own code for preprocessing the documents\n",
    "import spacy\n",
    "with open(\"sotu_1975_2000.txt\") as source:\n",
    "    nlp = spacy.load(\"en_core_web_sm\")\n",
    "    doc = [nlp(line) for line in source]\n",
    "    documents = []\n",
    "    for i in range(len(doc)):\n",
    "        lines = []\n",
    "        for token in doc[i]:\n",
    "            if token.is_stop == False and token.lemma_.isalpha() == True and len(token)>=3:\n",
    "                lines.append(token.lemma_)\n",
    "        documents.append(lines)\n",
    "#     documents = [line.split() for line in source]"
   ]
  },
  {
   "cell_type": "markdown",
   "metadata": {},
   "source": [
    "Test your preprocessing by running the following cell:"
   ]
  },
  {
   "cell_type": "code",
   "execution_count": 14,
   "metadata": {},
   "outputs": [
    {
     "data": {
      "text/plain": [
       "'reduce oil import million barrel day end year million barrel day end'"
      ]
     },
     "execution_count": 14,
     "metadata": {},
     "output_type": "execute_result"
    }
   ],
   "source": [
    "\" \".join(documents[42])"
   ]
  },
  {
   "cell_type": "markdown",
   "metadata": {},
   "source": [
    "You should get the following output:"
   ]
  },
  {
   "cell_type": "raw",
   "metadata": {},
   "source": [
    "'reduce oil imports million barrels day end year million barrels day end'"
   ]
  },
  {
   "cell_type": "markdown",
   "metadata": {},
   "source": [
    "Once you have the list of documents, skim the section [Pre-process and vectorize the documents](https://radimrehurek.com/gensim/auto_examples/tutorials/run_lda.html#pre-process-and-vectorize-the-documents) of the gensim documentation to learn how to create the dictionary and the vectorized corpus representation required by gensim. (Note that you cannot use the standard scikit-learn pipeline in this case.) Then, write code to train an [LdaModel](https://radimrehurek.com/gensim/models/ldamodel.html) for $k=10$ topics, and using default values for all other parameters."
   ]
  },
  {
   "cell_type": "code",
   "execution_count": 15,
   "metadata": {},
   "outputs": [],
   "source": [
    "# TODO: Enter code here to train an LDA model\n",
    "from gensim.models import LdaModel\n",
    "from gensim.corpora.dictionary import Dictionary\n",
    "dct = Dictionary(documents)\n",
    "corpus = [dct.doc2bow(text) for text in documents]\n",
    "model = LdaModel(corpus, num_topics=10, id2word=dct)"
   ]
  },
  {
   "cell_type": "markdown",
   "metadata": {},
   "source": [
    "Once you have a trained model, run the following cell to print the topics:"
   ]
  },
  {
   "cell_type": "code",
   "execution_count": 16,
   "metadata": {},
   "outputs": [
    {
     "data": {
      "text/plain": [
       "[(0,\n",
       "  '0.016*\"america\" + 0.011*\"people\" + 0.011*\"year\" + 0.011*\"new\" + 0.010*\"let\" + 0.009*\"world\" + 0.008*\"work\" + 0.008*\"community\" + 0.008*\"business\" + 0.007*\"nation\"'),\n",
       " (1,\n",
       "  '0.029*\"year\" + 0.016*\"work\" + 0.014*\"child\" + 0.012*\"million\" + 0.012*\"congress\" + 0.012*\"americans\" + 0.010*\"people\" + 0.009*\"budget\" + 0.009*\"new\" + 0.009*\"family\"'),\n",
       " (2,\n",
       "  '0.015*\"new\" + 0.014*\"america\" + 0.012*\"year\" + 0.011*\"nation\" + 0.008*\"congress\" + 0.008*\"people\" + 0.007*\"world\" + 0.007*\"nuclear\" + 0.006*\"tax\" + 0.006*\"work\"'),\n",
       " (3,\n",
       "  '0.008*\"year\" + 0.008*\"policy\" + 0.007*\"congress\" + 0.006*\"time\" + 0.006*\"medium\" + 0.005*\"new\" + 0.005*\"trade\" + 0.005*\"remarkable\" + 0.005*\"american\" + 0.005*\"foreign\"'),\n",
       " (4,\n",
       "  '0.018*\"year\" + 0.015*\"school\" + 0.014*\"work\" + 0.014*\"help\" + 0.013*\"new\" + 0.010*\"child\" + 0.007*\"country\" + 0.007*\"national\" + 0.007*\"family\" + 0.006*\"congress\"'),\n",
       " (5,\n",
       "  '0.015*\"year\" + 0.015*\"america\" + 0.013*\"people\" + 0.010*\"crime\" + 0.008*\"american\" + 0.007*\"world\" + 0.007*\"drug\" + 0.007*\"congress\" + 0.007*\"work\" + 0.006*\"gun\"'),\n",
       " (6,\n",
       "  '0.011*\"work\" + 0.010*\"program\" + 0.009*\"year\" + 0.007*\"support\" + 0.007*\"american\" + 0.006*\"new\" + 0.006*\"economy\" + 0.006*\"state\" + 0.006*\"america\" + 0.005*\"time\"'),\n",
       " (7,\n",
       "  '0.020*\"child\" + 0.019*\"work\" + 0.014*\"parent\" + 0.011*\"support\" + 0.010*\"people\" + 0.010*\"security\" + 0.008*\"help\" + 0.008*\"government\" + 0.007*\"social\" + 0.007*\"long\"'),\n",
       " (8,\n",
       "  '0.013*\"year\" + 0.008*\"right\" + 0.008*\"america\" + 0.007*\"work\" + 0.007*\"people\" + 0.007*\"thank\" + 0.007*\"need\" + 0.007*\"good\" + 0.007*\"community\" + 0.007*\"great\"'),\n",
       " (9,\n",
       "  '0.011*\"people\" + 0.009*\"new\" + 0.007*\"know\" + 0.006*\"ask\" + 0.006*\"act\" + 0.006*\"american\" + 0.005*\"country\" + 0.005*\"challenge\" + 0.005*\"help\" + 0.005*\"world\"')]"
      ]
     },
     "execution_count": 16,
     "metadata": {},
     "output_type": "execute_result"
    }
   ],
   "source": [
    "model.print_topics()"
   ]
  },
  {
   "cell_type": "markdown",
   "metadata": {},
   "source": [
    "Inspect the topics. Do they make sense? Can you &lsquo;label&rsquo; each topic with a short description of what it is about? Do the topics contain any unexpected terms? Summarize your discussion in a short text."
   ]
  },
  {
   "cell_type": "markdown",
   "metadata": {},
   "source": [
    "*TODO: Insert your discussion of the topics here*\n",
    "\n",
    "**Answer**:\n",
    "\n",
    "It makes sense that all the latent topics have *america* or *american*, and some of them are almost readable, such as \"America try to let more american to work in community or business\" and \"America may provide more for the care and security for new children' health\", etc. However, there are also many unreadable topics. For example, we have no idea the mean of *drug* in the second line is medicine or prohibited drugs since there is no clue from other topics."
   ]
  },
  {
   "cell_type": "markdown",
   "metadata": {},
   "source": [
    "## Problem 6: Monitoring a topic model for convergence"
   ]
  },
  {
   "cell_type": "markdown",
   "metadata": {},
   "source": [
    "When learning an LDA model, it is important to make sure that the training algorithm has converged to a stable posterior distribution. One way to do so is to plot, after each training epochs(or &lsquo;pass&rsquo;, in gensim parlance) the log likelihood of the training data under the posterior. Your last task in this lab is to create such a plot and, based on this, to suggest an appropriate number of epochs.\n",
    "\n",
    "To collect information about the posterior likelihood after each pass, we need to enable the logging facilities of gensim. Once this is done, gensim will add various diagnostics to a log file `gensim.log`."
   ]
  },
  {
   "cell_type": "code",
   "execution_count": 17,
   "metadata": {},
   "outputs": [],
   "source": [
    "import logging\n",
    "\n",
    "logging.basicConfig(filename=\"gensim.log\", format=\"%(asctime)s:%(levelname)s:%(message)s\", level=logging.INFO)"
   ]
  },
  {
   "cell_type": "markdown",
   "metadata": {},
   "source": [
    "The following function will parse the generated logfile and return the list of log likelihoods."
   ]
  },
  {
   "cell_type": "code",
   "execution_count": 18,
   "metadata": {},
   "outputs": [],
   "source": [
    "import re\n",
    "\n",
    "def parse_logfile():\n",
    "    matcher = re.compile(\"(-*\\d+\\.\\d+) per-word .* (\\d+\\.\\d+) perplexity\")\n",
    "    likelihoods = []\n",
    "    with open(\"gensim.log\") as source:\n",
    "        for line in source:\n",
    "            match = matcher.search(line)\n",
    "            if match:\n",
    "                likelihoods.append(float(match.group(1)))\n",
    "    return likelihoods"
   ]
  },
  {
   "cell_type": "markdown",
   "metadata": {},
   "source": [
    "Your task now is to re-train your LDA model for 50&nbsp;passes, retrieve the list of log likelihoods, and create a plot from this data."
   ]
  },
  {
   "cell_type": "code",
   "execution_count": 19,
   "metadata": {},
   "outputs": [
    {
     "data": {
      "text/plain": [
       "<matplotlib.axes._subplots.AxesSubplot at 0x1d7f3acff08>"
      ]
     },
     "execution_count": 19,
     "metadata": {},
     "output_type": "execute_result"
    },
    {
     "data": {
      "image/png": "[encoded data removed]",
      "text/plain": [
       "<Figure size 432x288 with 1 Axes>"
      ]
     },
     "metadata": {
      "needs_background": "light"
     },
     "output_type": "display_data"
    }
   ],
   "source": [
    "# TODO: Enter code here to generate the convergence plot\n",
    "model = LdaModel(corpus, num_topics=10, id2word=dct, passes=50)\n",
    "llh = parse_logfile()\n",
    "pd.Series(llh[:50]).plot()"
   ]
  },
  {
   "cell_type": "code",
   "execution_count": 20,
   "metadata": {},
   "outputs": [
    {
     "data": {
      "text/plain": [
       "[(0,\n",
       "  '0.023*\"america\" + 0.012*\"year\" + 0.012*\"people\" + 0.011*\"challenge\" + 0.010*\"great\" + 0.009*\"freedom\" + 0.008*\"nation\" + 0.007*\"tonight\" + 0.007*\"house\" + 0.007*\"american\"'),\n",
       " (1,\n",
       "  '0.048*\"year\" + 0.029*\"budget\" + 0.028*\"tax\" + 0.025*\"cut\" + 0.020*\"rate\" + 0.016*\"deficit\" + 0.015*\"high\" + 0.015*\"percent\" + 0.013*\"education\" + 0.013*\"low\"'),\n",
       " (2,\n",
       "  '0.031*\"environment\" + 0.024*\"clean\" + 0.012*\"air\" + 0.012*\"time\" + 0.009*\"housing\" + 0.009*\"fast\" + 0.008*\"waste\" + 0.008*\"labor\" + 0.008*\"environmental\" + 0.008*\"economy\"'),\n",
       " (3,\n",
       "  '0.022*\"crime\" + 0.019*\"government\" + 0.013*\"federal\" + 0.011*\"way\" + 0.011*\"gun\" + 0.010*\"work\" + 0.010*\"people\" + 0.010*\"community\" + 0.009*\"pass\" + 0.009*\"reform\"'),\n",
       " (4,\n",
       "  '0.032*\"world\" + 0.015*\"america\" + 0.014*\"responsibility\" + 0.014*\"welfare\" + 0.013*\"peace\" + 0.012*\"war\" + 0.010*\"freedom\" + 0.010*\"nation\" + 0.009*\"people\" + 0.008*\"work\"'),\n",
       " (5,\n",
       "  '0.033*\"health\" + 0.030*\"care\" + 0.023*\"security\" + 0.018*\"social\" + 0.014*\"year\" + 0.012*\"insurance\" + 0.011*\"medicare\" + 0.011*\"family\" + 0.010*\"work\" + 0.009*\"cost\"'),\n",
       " (6,\n",
       "  '0.026*\"new\" + 0.023*\"america\" + 0.019*\"work\" + 0.019*\"child\" + 0.018*\"community\" + 0.016*\"help\" + 0.015*\"job\" + 0.013*\"people\" + 0.012*\"family\" + 0.011*\"americans\"'),\n",
       " (7,\n",
       "  '0.018*\"child\" + 0.017*\"work\" + 0.017*\"people\" + 0.015*\"school\" + 0.014*\"know\" + 0.013*\"year\" + 0.012*\"congress\" + 0.012*\"let\" + 0.011*\"good\" + 0.008*\"president\"'),\n",
       " (8,\n",
       "  '0.020*\"program\" + 0.014*\"government\" + 0.013*\"congress\" + 0.012*\"federal\" + 0.011*\"energy\" + 0.011*\"year\" + 0.010*\"administration\" + 0.009*\"new\" + 0.009*\"increase\" + 0.008*\"need\"'),\n",
       " (9,\n",
       "  '0.022*\"world\" + 0.017*\"nation\" + 0.013*\"united\" + 0.013*\"trade\" + 0.012*\"peace\" + 0.012*\"soviet\" + 0.011*\"states\" + 0.010*\"country\" + 0.010*\"security\" + 0.009*\"economic\"')]"
      ]
     },
     "execution_count": 20,
     "metadata": {},
     "output_type": "execute_result"
    }
   ],
   "source": [
    "model.print_topics()"
   ]
  },
  {
   "cell_type": "markdown",
   "metadata": {},
   "source": [
    "How do you interpret your plot? What would be a reasonable choice for the number of passes? Retrain your LDA model with that number and re-inspect the topics it finds. Do you consider the new topics to be &lsquo;better&rsquo; than the ones that you got from the 1-pass model in Problem&nbsp;5?"
   ]
  },
  {
   "cell_type": "markdown",
   "metadata": {},
   "source": [
    "*TODO: Insert your discussion of these questions here*\n",
    "\n",
    "**Answer**:\n",
    "\n",
    "the plot shows that the log likelihood converges during 50 passes, which means the training algorithm does converge to a stable posterior distribution. It seems we can get a good-enough model when `passes` is more than 9. Compared with the result in Problem 5, the topics are more readable obviously. We can easily find *cut tax*, *gun crime*, *nuclear weapon treat*, etc, not just *america* everywhere."
   ]
  },
  {
   "cell_type": "markdown",
   "metadata": {},
   "source": [
    "<div class=\"alert alert-info\">\n",
    "    Please read the section ‘General information’ on the ‘Labs’ page of the course website before submitting this notebook!\n",
    "</div>"
   ]
  }
 ],
 "metadata": {
  "kernelspec": {
   "display_name": "Python 3",
   "language": "python",
   "name": "python3"
  },
  "language_info": {
   "codemirror_mode": {
    "name": "ipython",
    "version": 3
   },
   "file_extension": ".py",
   "mimetype": "text/x-python",
   "name": "python",
   "nbconvert_exporter": "python",
   "pygments_lexer": "ipython3",
   "version": "3.7.6"
  }
 },
 "nbformat": 4,
 "nbformat_minor": 2
}
