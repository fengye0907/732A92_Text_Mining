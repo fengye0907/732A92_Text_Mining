{
 "cells": [
  {
   "cell_type": "markdown",
   "metadata": {},
   "source": [
    "对于虚假/正宗食谱表的单个分析"
   ]
  },
  {
   "cell_type": "code",
   "execution_count": 1,
   "metadata": {},
   "outputs": [
    {
     "ename": "ModuleNotFoundError",
     "evalue": "No module named 'spacy'",
     "output_type": "error",
     "traceback": [
      "\u001b[1;31m---------------------------------------------------------------------------\u001b[0m",
      "\u001b[1;31mModuleNotFoundError\u001b[0m                       Traceback (most recent call last)",
      "\u001b[1;32m<ipython-input-1-5e99483b6c07>\u001b[0m in \u001b[0;36m<module>\u001b[1;34m\u001b[0m\n\u001b[0;32m      1\u001b[0m \u001b[1;32mimport\u001b[0m \u001b[0mbz2\u001b[0m\u001b[1;33m\u001b[0m\u001b[1;33m\u001b[0m\u001b[0m\n\u001b[0;32m      2\u001b[0m \u001b[1;32mimport\u001b[0m \u001b[0mpandas\u001b[0m \u001b[1;32mas\u001b[0m \u001b[0mpd\u001b[0m\u001b[1;33m\u001b[0m\u001b[1;33m\u001b[0m\u001b[0m\n\u001b[1;32m----> 3\u001b[1;33m \u001b[1;32mimport\u001b[0m \u001b[0mspacy\u001b[0m\u001b[1;33m\u001b[0m\u001b[1;33m\u001b[0m\u001b[0m\n\u001b[0m\u001b[0;32m      4\u001b[0m \u001b[1;32mimport\u001b[0m \u001b[0mmatplotlib\u001b[0m\u001b[1;33m\u001b[0m\u001b[1;33m\u001b[0m\u001b[0m\n\u001b[0;32m      5\u001b[0m \u001b[1;32mimport\u001b[0m \u001b[0mmatplotlib\u001b[0m\u001b[1;33m.\u001b[0m\u001b[0mpyplot\u001b[0m \u001b[1;32mas\u001b[0m \u001b[0mplt\u001b[0m\u001b[1;33m\u001b[0m\u001b[1;33m\u001b[0m\u001b[0m\n",
      "\u001b[1;31mModuleNotFoundError\u001b[0m: No module named 'spacy'"
     ]
    }
   ],
   "source": [
    "import bz2\n",
    "import pandas as pd\n",
    "import spacy\n",
    "import matplotlib\n",
    "import matplotlib.pyplot as plt\n",
    "from IPython.core.pylabtools import figsize\n",
    "from nltk import FreqDist\n",
    "import random\n",
    "\n",
    "from sklearn.metrics import confusion_matrix\n",
    "from sklearn.metrics import classification_report"
   ]
  },
  {
   "cell_type": "code",
   "execution_count": 2,
   "metadata": {},
   "outputs": [],
   "source": [
    "IO = \"D:\\\\研2\\\\732A92 Text Mining\\\\\\project\\\\recipes.xlsx\"\n",
    "\n",
    "total = pd.read_excel(io = IO, sheet_name = \"xujia\")     # 241\n",
    "# total = pd.read_excel(io = IO, sheet_name = \"zhengzong\")     # 241\n",
    "\n",
    "total[\"instruction\"] = [s.lower().replace(\"\\n\",\" \") for s in total[\"instruction\"]]   # 全小写, 去除\\n"
   ]
  },
  {
   "cell_type": "code",
   "execution_count": 3,
   "metadata": {},
   "outputs": [
    {
     "data": {
      "text/html": [
       "<div>\n",
       "<style scoped>\n",
       "    .dataframe tbody tr th:only-of-type {\n",
       "        vertical-align: middle;\n",
       "    }\n",
       "\n",
       "    .dataframe tbody tr th {\n",
       "        vertical-align: top;\n",
       "    }\n",
       "\n",
       "    .dataframe thead th {\n",
       "        text-align: right;\n",
       "    }\n",
       "</style>\n",
       "<table border=\"1\" class=\"dataframe\">\n",
       "  <thead>\n",
       "    <tr style=\"text-align: right;\">\n",
       "      <th></th>\n",
       "      <th>name</th>\n",
       "      <th>instruction</th>\n",
       "      <th>label</th>\n",
       "    </tr>\n",
       "  </thead>\n",
       "  <tbody>\n",
       "    <tr>\n",
       "      <th>0</th>\n",
       "      <td>General Tso’s Chicken</td>\n",
       "      <td>toss the chicken thighs with the quarter cup o...</td>\n",
       "      <td>1</td>\n",
       "    </tr>\n",
       "    <tr>\n",
       "      <th>1</th>\n",
       "      <td>Easy Sesame Chicken</td>\n",
       "      <td>to make the sauce mix all the ingredients toge...</td>\n",
       "      <td>1</td>\n",
       "    </tr>\n",
       "    <tr>\n",
       "      <th>2</th>\n",
       "      <td>Chinese Honey Chicken</td>\n",
       "      <td>in a large bowl add the egg whites and whisk u...</td>\n",
       "      <td>1</td>\n",
       "    </tr>\n",
       "    <tr>\n",
       "      <th>3</th>\n",
       "      <td>Chinese Lemon Chicken</td>\n",
       "      <td>slice the chicken breasts in half butterflied ...</td>\n",
       "      <td>1</td>\n",
       "    </tr>\n",
       "    <tr>\n",
       "      <th>4</th>\n",
       "      <td>Panda Express Orange Chicken</td>\n",
       "      <td>to make the sauce combine the 1 tablespoon cor...</td>\n",
       "      <td>1</td>\n",
       "    </tr>\n",
       "    <tr>\n",
       "      <th>...</th>\n",
       "      <td>...</td>\n",
       "      <td>...</td>\n",
       "      <td>...</td>\n",
       "    </tr>\n",
       "    <tr>\n",
       "      <th>236</th>\n",
       "      <td>Jungguk-naengmyeon</td>\n",
       "      <td>1.soak the brisket in a bowl of water and set ...</td>\n",
       "      <td>1</td>\n",
       "    </tr>\n",
       "    <tr>\n",
       "      <th>237</th>\n",
       "      <td>Kkanpunggi</td>\n",
       "      <td>prep the chicken  combine the chicken, ginger,...</td>\n",
       "      <td>1</td>\n",
       "    </tr>\n",
       "    <tr>\n",
       "      <th>238</th>\n",
       "      <td>Kkanpung saeu</td>\n",
       "      <td>clean the shrimp, drain, and pat dry with pape...</td>\n",
       "      <td>1</td>\n",
       "    </tr>\n",
       "    <tr>\n",
       "      <th>239</th>\n",
       "      <td>Rajogi</td>\n",
       "      <td>chicken flesh eating beomurinda put the cut ch...</td>\n",
       "      <td>1</td>\n",
       "    </tr>\n",
       "    <tr>\n",
       "      <th>240</th>\n",
       "      <td>Udong</td>\n",
       "      <td>instructions gather all the ingredients.  niku...</td>\n",
       "      <td>1</td>\n",
       "    </tr>\n",
       "  </tbody>\n",
       "</table>\n",
       "<p>241 rows × 3 columns</p>\n",
       "</div>"
      ],
      "text/plain": [
       "                             name  \\\n",
       "0           General Tso’s Chicken   \n",
       "1             Easy Sesame Chicken   \n",
       "2           Chinese Honey Chicken   \n",
       "3           Chinese Lemon Chicken   \n",
       "4    Panda Express Orange Chicken   \n",
       "..                            ...   \n",
       "236            Jungguk-naengmyeon   \n",
       "237                   Kkanpunggi    \n",
       "238                Kkanpung saeu    \n",
       "239                       Rajogi    \n",
       "240                        Udong    \n",
       "\n",
       "                                           instruction  label  \n",
       "0    toss the chicken thighs with the quarter cup o...      1  \n",
       "1    to make the sauce mix all the ingredients toge...      1  \n",
       "2    in a large bowl add the egg whites and whisk u...      1  \n",
       "3    slice the chicken breasts in half butterflied ...      1  \n",
       "4    to make the sauce combine the 1 tablespoon cor...      1  \n",
       "..                                                 ...    ...  \n",
       "236  1.soak the brisket in a bowl of water and set ...      1  \n",
       "237  prep the chicken  combine the chicken, ginger,...      1  \n",
       "238  clean the shrimp, drain, and pat dry with pape...      1  \n",
       "239  chicken flesh eating beomurinda put the cut ch...      1  \n",
       "240  instructions gather all the ingredients.  niku...      1  \n",
       "\n",
       "[241 rows x 3 columns]"
      ]
     },
     "execution_count": 3,
     "metadata": {},
     "output_type": "execute_result"
    }
   ],
   "source": [
    "total"
   ]
  },
  {
   "cell_type": "code",
   "execution_count": null,
   "metadata": {},
   "outputs": [],
   "source": []
  },
  {
   "cell_type": "code",
   "execution_count": 4,
   "metadata": {},
   "outputs": [
    {
     "ename": "NameError",
     "evalue": "name 'spacy' is not defined",
     "output_type": "error",
     "traceback": [
      "\u001b[1;31m---------------------------------------------------------------------------\u001b[0m",
      "\u001b[1;31mNameError\u001b[0m                                 Traceback (most recent call last)",
      "\u001b[1;32m<ipython-input-4-6879d0945c5a>\u001b[0m in \u001b[0;36m<module>\u001b[1;34m\u001b[0m\n\u001b[1;32m----> 1\u001b[1;33m \u001b[0mnlp\u001b[0m \u001b[1;33m=\u001b[0m \u001b[0mspacy\u001b[0m\u001b[1;33m.\u001b[0m\u001b[0mload\u001b[0m\u001b[1;33m(\u001b[0m\u001b[1;34m'en_core_web_lg'\u001b[0m\u001b[1;33m)\u001b[0m \u001b[1;31m# 用大(large)词典\u001b[0m\u001b[1;33m\u001b[0m\u001b[1;33m\u001b[0m\u001b[0m\n\u001b[0m",
      "\u001b[1;31mNameError\u001b[0m: name 'spacy' is not defined"
     ]
    }
   ],
   "source": [
    "nlp = spacy.load('en_core_web_lg') # 用大(large)词典"
   ]
  },
  {
   "cell_type": "markdown",
   "metadata": {},
   "source": [
    "统计所有虚假中餐的动名词"
   ]
  },
  {
   "cell_type": "code",
   "execution_count": 133,
   "metadata": {},
   "outputs": [],
   "source": [
    "# data1 = total.loc[total.label == 1][\"instruction\"]  # 所用虚假中餐的菜谱\n",
    "data1 = total[\"instruction\"]\n",
    "nouns1 = []\n",
    "verbs1 = []\n",
    "nv1 = []\n",
    "for recipe in data1:\n",
    "    doc = nlp(recipe)\n",
    "    lines = []\n",
    "    for token in doc:\n",
    "        p = token.pos_\n",
    "        if token.is_stop == False and token.lemma_.isalpha() == True and len(token)>=2:\n",
    "            if(p==\"NOUN\"):\n",
    "                nouns1.append(token.lemma_)\n",
    "            elif(p==\"VERB\"):\n",
    "                verbs1.append(token.lemma_)\n",
    "            lines.append(token.lemma_)\n",
    "    nv1.append(lines)"
   ]
  },
  {
   "cell_type": "code",
   "execution_count": 113,
   "metadata": {},
   "outputs": [
    {
     "data": {
      "text/plain": [
       "'add small pinch salt sesame oil mince beef mix set aside mix tablespoon cornstarch tablespoon water small bowl water starch cut tofu square cube bring large water boil add pinch salt slide tofu cook minute drain wok heat tablespoon oil fry mince meat crispy transfer beef leave oil fry doubanjiang minute slow fire add garlic scallion white ginger ferment black bean cook second aroma mix pepper flake add water seasoning bring boil high fire gently slide tofu cube add light soy sauce heat boil simmer minute add chop garlic green stir water starch pour half mixture simmer pot wait second pour half slightly taste tofu add pinch salt salty way feel spicy add sugar milder taste carefully broth hot point transfer seasoning stick tofu cube sprinkle szechuan peppercorn powder chop garlic green serve immediately steam rice'"
      ]
     },
     "execution_count": 113,
     "metadata": {},
     "output_type": "execute_result"
    }
   ],
   "source": [
    "\" \".join(nv1[0])"
   ]
  },
  {
   "cell_type": "code",
   "execution_count": 114,
   "metadata": {},
   "outputs": [
    {
     "data": {
      "text/plain": [
       "241"
      ]
     },
     "execution_count": 114,
     "metadata": {},
     "output_type": "execute_result"
    }
   ],
   "source": [
    "len(nv1)"
   ]
  },
  {
   "cell_type": "code",
   "execution_count": 115,
   "metadata": {},
   "outputs": [
    {
     "name": "stdout",
     "output_type": "stream",
     "text": [
      "7921\n",
      "481\n",
      "[('add', 699), ('fry', 325), ('mix', 281), ('cook', 257), ('serve', 242), ('transfer', 240), ('stir', 197), ('cut', 187), ('set', 180), ('heat', 164), ('turn', 159), ('cover', 153), ('pour', 145), ('use', 136), ('soak', 125), ('place', 122), ('remove', 115), ('boil', 110), ('bring', 105), ('prepare', 99), ('chop', 90), ('simmer', 89), ('steam', 86), ('continue', 85), ('cool', 82), ('dry', 79), ('drain', 76), ('marinate', 72), ('let', 71), ('wash', 62), ('leave', 56), ('knead', 55), ('combine', 54), ('roll', 54), ('mince', 48), ('need', 46), ('shape', 45), ('brush', 45), ('spread', 44), ('slice', 43)]\n"
     ]
    },
    {
     "data": {
      "image/png": "[encoded data removed]",
      "text/plain": [
       "<Figure size 864x216 with 1 Axes>"
      ]
     },
     "metadata": {
      "needs_background": "light"
     },
     "output_type": "display_data"
    },
    {
     "data": {
      "text/plain": [
       "<matplotlib.axes._subplots.AxesSubplot at 0x1cb23577ec8>"
      ]
     },
     "execution_count": 115,
     "metadata": {},
     "output_type": "execute_result"
    }
   ],
   "source": [
    "cv1 = FreqDist(verbs1)\n",
    "print(sum(cv1.values()))  # 动词总数量\n",
    "print(len(cv1))           # 动词的种类\n",
    "n = 20\n",
    "print([(k,v) for k,v in cv1.most_common(40)])\n",
    "figsize(12, 3)\n",
    "cv1.plot(25)"
   ]
  },
  {
   "cell_type": "code",
   "execution_count": 116,
   "metadata": {},
   "outputs": [],
   "source": [
    "# 基础食物的名单 来自USDA 2019 12月 https://fdc.nal.usda.gov/download-datasets.html\n",
    "# df = pd.read_csv(\"all_branded_food.csv\")\n",
    "# mats = df[\"ingredients\"]   # 元数据 294238  20w\n",
    "# mats_set = set([])\n",
    "\n",
    "# random.seed(10)\n",
    "# mats = mats.sample(frac = 0.005) # 293248 * 0.01    2k\n",
    "# for mat in mats:\n",
    "#     if mat:\n",
    "#         doc = nlp(str(mat).lower())\n",
    "#         for token in doc:\n",
    "#             if(token.lemma_.isalpha() and token.pos_ == \"NOUN\" and len(token.lemma_)>3):\n",
    "#                 mats_set.add(token.lemma_)"
   ]
  },
  {
   "cell_type": "code",
   "execution_count": 117,
   "metadata": {},
   "outputs": [
    {
     "name": "stdout",
     "output_type": "stream",
     "text": [
      "13653\n",
      "891\n",
      "[('minute', 606), ('oil', 531), ('water', 519), ('sauce', 351), ('bowl', 240), ('wok', 222), ('pork', 221), ('tablespoon', 208), ('heat', 205), ('salt', 204), ('fire', 182), ('pot', 178), ('ginger', 177), ('pepper', 171), ('dough', 148), ('soy', 147), ('onion', 147), ('rice', 146), ('sugar', 138), ('chicken', 135), ('fish', 132), ('slice', 127), ('garlic', 124), ('pan', 118), ('scallion', 101), ('mixture', 95), ('hour', 94), ('piece', 94), ('process', 91), ('egg', 88), ('sesame', 87), ('ingredient', 85), ('time', 81), ('bean', 80), ('noodle', 80), ('meat', 78), ('cooking', 76), ('cup', 76), ('chili', 76), ('flour', 75)]\n"
     ]
    },
    {
     "data": {
      "image/png": "[encoded data removed]",
      "text/plain": [
       "<Figure size 864x216 with 1 Axes>"
      ]
     },
     "metadata": {
      "needs_background": "light"
     },
     "output_type": "display_data"
    },
    {
     "data": {
      "text/plain": [
       "<matplotlib.axes._subplots.AxesSubplot at 0x1cb9b2e1088>"
      ]
     },
     "execution_count": 117,
     "metadata": {},
     "output_type": "execute_result"
    }
   ],
   "source": [
    "cn1 = FreqDist(nouns1)\n",
    "print(sum(cn1.values()))  # 名词总数量\n",
    "print(len(cn1))           # 名词的种类\n",
    "\n",
    "# cn1_filter = cn1\n",
    "# for k,v in list(cn1.items()):\n",
    "#     if(k not in mats_set):\n",
    "#         del cn1_filter[k]\n",
    "\n",
    "# print(len(cn1))\n",
    "# print(len(cn1_filter))\n",
    "print([(k,v) for k,v in cn1.most_common(40)])\n",
    "\n",
    "figsize(12, 3)\n",
    "cn1.plot(40)"
   ]
  },
  {
   "cell_type": "markdown",
   "metadata": {},
   "source": [
    "主题模型"
   ]
  },
  {
   "cell_type": "code",
   "execution_count": 134,
   "metadata": {},
   "outputs": [],
   "source": [
    "from gensim.corpora.dictionary import Dictionary\n",
    "dct = Dictionary(nv1)\n",
    "corpus = [dct.doc2bow(text) for text in nv1]\n"
   ]
  },
  {
   "cell_type": "code",
   "execution_count": 135,
   "metadata": {},
   "outputs": [],
   "source": [
    "from gensim.models import LdaModel\n",
    "\n",
    "model = LdaModel(corpus, num_topics=2, id2word=dct, \n",
    "                 passes=100, random_state=0)\n",
    "\n",
    "# model.print_topics()"
   ]
  },
  {
   "cell_type": "code",
   "execution_count": 136,
   "metadata": {},
   "outputs": [
    {
     "data": {
      "text/plain": [
       "[(0,\n",
       "  '0.037*\"add\" + 0.029*\"minute\" + 0.028*\"heat\" + 0.025*\"sauce\" + 0.023*\"oil\" + 0.023*\"cook\" + 0.023*\"stir\" + 0.018*\"chicken\" + 0.013*\"large\" + 0.012*\"bowl\" + 0.012*\"medium\" + 0.011*\"pepper\" + 0.010*\"water\" + 0.010*\"rice\" + 0.010*\"soy\" + 0.010*\"skillet\" + 0.010*\"garlic\" + 0.010*\"serve\" + 0.009*\"high\" + 0.009*\"onion\"'),\n",
       " (1,\n",
       "  '0.024*\"add\" + 0.015*\"water\" + 0.013*\"sauce\" + 0.010*\"wrapper\" + 0.009*\"oil\" + 0.009*\"noodle\" + 0.009*\"shrimp\" + 0.009*\"fry\" + 0.008*\"heat\" + 0.008*\"soup\" + 0.008*\"stir\" + 0.008*\"cook\" + 0.008*\"minute\" + 0.007*\"boil\" + 0.007*\"bowl\" + 0.007*\"wonton\" + 0.007*\"serve\" + 0.007*\"mix\" + 0.006*\"pork\" + 0.006*\"step\"')]"
      ]
     },
     "execution_count": 136,
     "metadata": {},
     "output_type": "execute_result"
    }
   ],
   "source": [
    "# help(model)\n",
    "model.show_topics(num_words=20)"
   ]
  },
  {
   "cell_type": "code",
   "execution_count": 105,
   "metadata": {},
   "outputs": [
    {
     "data": {
      "text/plain": [
       "[([(0.03180053, 'add'),\n",
       "   (0.024360998, 'oil'),\n",
       "   (0.022098143, 'minute'),\n",
       "   (0.020715002, 'sauce'),\n",
       "   (0.019644465, 'fry'),\n",
       "   (0.015761347, 'heat'),\n",
       "   (0.01526977, 'wok'),\n",
       "   (0.014990146, 'mix'),\n",
       "   (0.014754385, 'stir'),\n",
       "   (0.0129955225, 'cut'),\n",
       "   (0.0124110505, 'tablespoon'),\n",
       "   (0.0123941675, 'pan'),\n",
       "   (0.012119387, 'pork'),\n",
       "   (0.01180248, 'salt'),\n",
       "   (0.011503017, 'small'),\n",
       "   (0.009502537, 'fire'),\n",
       "   (0.009433078, 'serve'),\n",
       "   (0.008723269, 'bowl'),\n",
       "   (0.008434908, 'pepper'),\n",
       "   (0.008252443, 'transfer')],\n",
       "  -0.5843982513608497),\n",
       " ([(0.034231298, 'add'),\n",
       "   (0.02923378, 'water'),\n",
       "   (0.027085243, 'minute'),\n",
       "   (0.017575685, 'sauce'),\n",
       "   (0.017351812, 'chicken'),\n",
       "   (0.017328138, 'oil'),\n",
       "   (0.0144344, 'fry'),\n",
       "   (0.012695333, 'pot'),\n",
       "   (0.011822727, 'transfer'),\n",
       "   (0.011044551, 'serve'),\n",
       "   (0.010912289, 'soak'),\n",
       "   (0.010879555, 'heat'),\n",
       "   (0.01068803, 'cook'),\n",
       "   (0.010445426, 'fire'),\n",
       "   (0.010183237, 'mix'),\n",
       "   (0.009336968, 'large'),\n",
       "   (0.008944287, 'green'),\n",
       "   (0.008846275, 'stir'),\n",
       "   (0.008788856, 'boil'),\n",
       "   (0.008695143, 'small')],\n",
       "  -0.6181188870237188),\n",
       " ([(0.037839673, 'oil'),\n",
       "   (0.032522418, 'fry'),\n",
       "   (0.023413925, 'add'),\n",
       "   (0.018006887, 'pork'),\n",
       "   (0.017538872, 'sauce'),\n",
       "   (0.017108142, 'heat'),\n",
       "   (0.016409563, 'salt'),\n",
       "   (0.014405486, 'minute'),\n",
       "   (0.0136984475, 'mix'),\n",
       "   (0.013047453, 'place'),\n",
       "   (0.012718916, 'pepper'),\n",
       "   (0.0118175, 'small'),\n",
       "   (0.010916662, 'transfer'),\n",
       "   (0.01016808, 'water'),\n",
       "   (0.010021821, 'tablespoon'),\n",
       "   (0.009973998, 'wok'),\n",
       "   (0.00867287, 'serve'),\n",
       "   (0.0076811435, 'shred'),\n",
       "   (0.0076035475, 'second'),\n",
       "   (0.007565236, 'stir')],\n",
       "  -0.7007306374336212),\n",
       " ([(0.02912829, 'add'),\n",
       "   (0.024385227, 'oil'),\n",
       "   (0.02061177, 'heat'),\n",
       "   (0.019814488, 'minute'),\n",
       "   (0.017694313, 'fry'),\n",
       "   (0.016381094, 'wok'),\n",
       "   (0.016313203, 'cook'),\n",
       "   (0.015751433, 'water'),\n",
       "   (0.014463518, 'sauce'),\n",
       "   (0.0120386435, 'slice'),\n",
       "   (0.012010896, 'fish'),\n",
       "   (0.011586319, 'stir'),\n",
       "   (0.011457011, 'serve'),\n",
       "   (0.011233038, 'ginger'),\n",
       "   (0.01053022, 'tablespoon'),\n",
       "   (0.010012595, 'pepper'),\n",
       "   (0.009987746, 'turn'),\n",
       "   (0.00904115, 'bowl'),\n",
       "   (0.0089011565, 'pour'),\n",
       "   (0.008837442, 'pork')],\n",
       "  -0.7656839108509682),\n",
       " ([(0.022034544, 'dough'),\n",
       "   (0.018185979, 'minute'),\n",
       "   (0.016400948, 'add'),\n",
       "   (0.014674375, 'oil'),\n",
       "   (0.014144921, 'stir'),\n",
       "   (0.013399436, 'roll'),\n",
       "   (0.011844283, 'water'),\n",
       "   (0.011156052, 'heat'),\n",
       "   (0.0088985255, 'cover'),\n",
       "   (0.008556315, 'mixture'),\n",
       "   (0.008463666, 'fry'),\n",
       "   (0.007747241, 'flour'),\n",
       "   (0.007331186, 'long'),\n",
       "   (0.0069331527, 'set'),\n",
       "   (0.0068388116, 'cut'),\n",
       "   (0.006745195, 'wok'),\n",
       "   (0.0065570413, 'turn'),\n",
       "   (0.006506529, 'portion'),\n",
       "   (0.006472224, 'cook'),\n",
       "   (0.006406769, 'aside')],\n",
       "  -0.8618605383329511),\n",
       " ([(0.029112244, 'minute'),\n",
       "   (0.025331039, 'water'),\n",
       "   (0.019955335, 'add'),\n",
       "   (0.013964984, 'transfer'),\n",
       "   (0.012724484, 'mix'),\n",
       "   (0.012535533, 'bowl'),\n",
       "   (0.012207078, 'dough'),\n",
       "   (0.011466004, 'cover'),\n",
       "   (0.011208759, 'rice'),\n",
       "   (0.010669872, 'place'),\n",
       "   (0.009884861, 'oil'),\n",
       "   (0.009821554, 'heat'),\n",
       "   (0.009477554, 'ball'),\n",
       "   (0.009066659, 'small'),\n",
       "   (0.008873077, 'large'),\n",
       "   (0.007978477, 'filling'),\n",
       "   (0.0076343506, 'boil'),\n",
       "   (0.007277039, 'fire'),\n",
       "   (0.0071658357, 'wrapper'),\n",
       "   (0.0071555236, 'egg')],\n",
       "  -1.076616442687427),\n",
       " ([(0.02421476, 'oil'),\n",
       "   (0.02218213, 'add'),\n",
       "   (0.018204479, 'water'),\n",
       "   (0.017741632, 'mix'),\n",
       "   (0.015797032, 'bowl'),\n",
       "   (0.015383206, 'pan'),\n",
       "   (0.014945787, 'wok'),\n",
       "   (0.014360384, 'fry'),\n",
       "   (0.013811207, 'serve'),\n",
       "   (0.013102104, 'stir'),\n",
       "   (0.0126612615, 'cook'),\n",
       "   (0.012604818, 'heat'),\n",
       "   (0.012267673, 'onion'),\n",
       "   (0.0120806275, 'sauce'),\n",
       "   (0.011993815, 'minute'),\n",
       "   (0.011207988, 'use'),\n",
       "   (0.010796953, 'green'),\n",
       "   (0.010338957, 'pork'),\n",
       "   (0.008559671, 'fish'),\n",
       "   (0.008413528, 'noodle')],\n",
       "  -1.1645648808078584),\n",
       " ([(0.03011781, 'noodle'),\n",
       "   (0.020754818, 'dough'),\n",
       "   (0.020263832, 'minute'),\n",
       "   (0.01363198, 'cover'),\n",
       "   (0.013478959, 'water'),\n",
       "   (0.011847686, 'wrapper'),\n",
       "   (0.011584032, 'cm'),\n",
       "   (0.011199695, 'mix'),\n",
       "   (0.010839786, 'oil'),\n",
       "   (0.010189787, 'portion'),\n",
       "   (0.010008199, 'add'),\n",
       "   (0.009412379, 'use'),\n",
       "   (0.009338408, 'knead'),\n",
       "   (0.009329056, 'rest'),\n",
       "   (0.008114915, 'salt'),\n",
       "   (0.007817623, 'long'),\n",
       "   (0.0077832416, 'sausage'),\n",
       "   (0.0077104494, 'brush'),\n",
       "   (0.0076923026, 'surface'),\n",
       "   (0.007526996, 'thin')],\n",
       "  -1.627350610232977),\n",
       " ([(0.01618485, 'squab'),\n",
       "   (0.014540408, 'cut'),\n",
       "   (0.014078165, 'pigeon'),\n",
       "   (0.012134566, 'water'),\n",
       "   (0.011325063, 'use'),\n",
       "   (0.010131396, 'fry'),\n",
       "   (0.00972839, 'oil'),\n",
       "   (0.009269817, 'sauce'),\n",
       "   (0.0092237685, 'remove'),\n",
       "   (0.009159699, 'chinese'),\n",
       "   (0.009140869, 'liquid'),\n",
       "   (0.008307484, 'pork'),\n",
       "   (0.007978734, 'small'),\n",
       "   (0.007580024, 'cavity'),\n",
       "   (0.007579782, 'maltose'),\n",
       "   (0.0073402147, 'pot'),\n",
       "   (0.0071138917, 'minute'),\n",
       "   (0.00698037, 'clean'),\n",
       "   (0.006913961, 'process'),\n",
       "   (0.0067901644, 'skin')],\n",
       "  -1.6933099640902942),\n",
       " ([(0.028943393, 'pork'),\n",
       "   (0.01885182, 'belly'),\n",
       "   (0.018638434, 'place'),\n",
       "   (0.013792413, 'rind'),\n",
       "   (0.012327251, 'skin'),\n",
       "   (0.011408215, 'minute'),\n",
       "   (0.0110381665, 'chicken'),\n",
       "   (0.010966017, 'add'),\n",
       "   (0.010853225, 'oven'),\n",
       "   (0.010619739, 'ginger'),\n",
       "   (0.0100284675, 'scallion'),\n",
       "   (0.009352602, 'cut'),\n",
       "   (0.0093119675, 'layer'),\n",
       "   (0.00890879, 'remove'),\n",
       "   (0.008891163, 'hour'),\n",
       "   (0.008876982, 'roast'),\n",
       "   (0.0084054135, 'dry'),\n",
       "   (0.008303574, 'large'),\n",
       "   (0.008130866, 'stock'),\n",
       "   (0.007450224, 'salt')],\n",
       "  -1.7934839658710156)]"
      ]
     },
     "execution_count": 105,
     "metadata": {},
     "output_type": "execute_result"
    }
   ],
   "source": [
    "model.top_topics(corpus)"
   ]
  }
 ],
 "metadata": {
  "kernelspec": {
   "display_name": "Python 3",
   "language": "python",
   "name": "python3"
  },
  "language_info": {
   "codemirror_mode": {
    "name": "ipython",
    "version": 3
   },
   "file_extension": ".py",
   "mimetype": "text/x-python",
   "name": "python",
   "nbconvert_exporter": "python",
   "pygments_lexer": "ipython3",
   "version": "3.7.6"
  }
 },
 "nbformat": 4,
 "nbformat_minor": 2
}
