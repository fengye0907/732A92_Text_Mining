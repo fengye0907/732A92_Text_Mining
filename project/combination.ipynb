{
 "cells": [
  {
   "cell_type": "code",
   "execution_count": 115,
   "metadata": {},
   "outputs": [],
   "source": [
    "import bz2\n",
    "import pandas as pd\n",
    "import spacy\n",
    "import matplotlib\n",
    "import matplotlib.pyplot as plt\n",
    "from IPython.core.pylabtools import figsize\n",
    "from nltk import FreqDist\n",
    "import random\n",
    "\n",
    "from sklearn.metrics import confusion_matrix\n",
    "from sklearn.metrics import classification_report"
   ]
  },
  {
   "cell_type": "code",
   "execution_count": 127,
   "metadata": {},
   "outputs": [],
   "source": [
    "IO = \"D:\\\\研2\\\\732A92 Text Mining\\\\\\project\\\\recipes.xlsx\"\n",
    "sheet0 = pd.read_excel(io = IO, sheet_name = \"zhengzong\")  #241\n",
    "sheet1 = pd.read_excel(io = IO, sheet_name = \"xujia\")     # 241\n",
    "total = pd.concat([sheet0, sheet1], ignore_index=True)\n",
    "\n",
    "total[\"instruction\"] = [s.lower().replace(\"\\n\",\" \") for s in total[\"instruction\"]]   # 全小写, 去除\\n\n",
    "nlp = spacy.load('en_core_web_lg') # 用大(large)词典"
   ]
  },
  {
   "cell_type": "code",
   "execution_count": 176,
   "metadata": {},
   "outputs": [
    {
     "data": {
      "text/html": [
       "<div>\n",
       "<style scoped>\n",
       "    .dataframe tbody tr th:only-of-type {\n",
       "        vertical-align: middle;\n",
       "    }\n",
       "\n",
       "    .dataframe tbody tr th {\n",
       "        vertical-align: top;\n",
       "    }\n",
       "\n",
       "    .dataframe thead th {\n",
       "        text-align: right;\n",
       "    }\n",
       "</style>\n",
       "<table border=\"1\" class=\"dataframe\">\n",
       "  <thead>\n",
       "    <tr style=\"text-align: right;\">\n",
       "      <th></th>\n",
       "      <th>name</th>\n",
       "      <th>instruction</th>\n",
       "      <th>label</th>\n",
       "    </tr>\n",
       "  </thead>\n",
       "  <tbody>\n",
       "    <tr>\n",
       "      <td>0</td>\n",
       "      <td>mapo tofu</td>\n",
       "      <td>add a small pinch of salt and sesame oil to mi...</td>\n",
       "      <td>0</td>\n",
       "    </tr>\n",
       "    <tr>\n",
       "      <td>1</td>\n",
       "      <td>Chinese Cured Pork Belly</td>\n",
       "      <td>in a small pot, add rice cooking wine, soy sau...</td>\n",
       "      <td>0</td>\n",
       "    </tr>\n",
       "    <tr>\n",
       "      <td>2</td>\n",
       "      <td>Mung Bean Cake</td>\n",
       "      <td>pre-soak the yellow mung beans overnight. rins...</td>\n",
       "      <td>0</td>\n",
       "    </tr>\n",
       "    <tr>\n",
       "      <td>3</td>\n",
       "      <td>Skinny Chinese Pan-Fried Fish</td>\n",
       "      <td>cut the fish into large chunks around 3-4 cm t...</td>\n",
       "      <td>0</td>\n",
       "    </tr>\n",
       "    <tr>\n",
       "      <td>4</td>\n",
       "      <td>Glass Noodles Stir Fry with Shredded Cabbage</td>\n",
       "      <td>in a large bowl, soak the glass noodles with h...</td>\n",
       "      <td>0</td>\n",
       "    </tr>\n",
       "    <tr>\n",
       "      <td>...</td>\n",
       "      <td>...</td>\n",
       "      <td>...</td>\n",
       "      <td>...</td>\n",
       "    </tr>\n",
       "    <tr>\n",
       "      <td>477</td>\n",
       "      <td>Jungguk-naengmyeon</td>\n",
       "      <td>1.soak the brisket in a bowl of water and set ...</td>\n",
       "      <td>1</td>\n",
       "    </tr>\n",
       "    <tr>\n",
       "      <td>478</td>\n",
       "      <td>Kkanpunggi</td>\n",
       "      <td>prep the chicken  combine the chicken, ginger,...</td>\n",
       "      <td>1</td>\n",
       "    </tr>\n",
       "    <tr>\n",
       "      <td>479</td>\n",
       "      <td>Kkanpung saeu</td>\n",
       "      <td>clean the shrimp, drain, and pat dry with pape...</td>\n",
       "      <td>1</td>\n",
       "    </tr>\n",
       "    <tr>\n",
       "      <td>480</td>\n",
       "      <td>Rajogi</td>\n",
       "      <td>chicken flesh eating beomurinda put the cut ch...</td>\n",
       "      <td>1</td>\n",
       "    </tr>\n",
       "    <tr>\n",
       "      <td>481</td>\n",
       "      <td>Udong</td>\n",
       "      <td>instructions gather all the ingredients.  niku...</td>\n",
       "      <td>1</td>\n",
       "    </tr>\n",
       "  </tbody>\n",
       "</table>\n",
       "<p>482 rows × 3 columns</p>\n",
       "</div>"
      ],
      "text/plain": [
       "                                             name  \\\n",
       "0                                       mapo tofu   \n",
       "1                        Chinese Cured Pork Belly   \n",
       "2                                  Mung Bean Cake   \n",
       "3                   Skinny Chinese Pan-Fried Fish   \n",
       "4    Glass Noodles Stir Fry with Shredded Cabbage   \n",
       "..                                            ...   \n",
       "477                            Jungguk-naengmyeon   \n",
       "478                                   Kkanpunggi    \n",
       "479                                Kkanpung saeu    \n",
       "480                                       Rajogi    \n",
       "481                                        Udong    \n",
       "\n",
       "                                           instruction  label  \n",
       "0    add a small pinch of salt and sesame oil to mi...      0  \n",
       "1    in a small pot, add rice cooking wine, soy sau...      0  \n",
       "2    pre-soak the yellow mung beans overnight. rins...      0  \n",
       "3    cut the fish into large chunks around 3-4 cm t...      0  \n",
       "4    in a large bowl, soak the glass noodles with h...      0  \n",
       "..                                                 ...    ...  \n",
       "477  1.soak the brisket in a bowl of water and set ...      1  \n",
       "478  prep the chicken  combine the chicken, ginger,...      1  \n",
       "479  clean the shrimp, drain, and pat dry with pape...      1  \n",
       "480  chicken flesh eating beomurinda put the cut ch...      1  \n",
       "481  instructions gather all the ingredients.  niku...      1  \n",
       "\n",
       "[482 rows x 3 columns]"
      ]
     },
     "execution_count": 176,
     "metadata": {},
     "output_type": "execute_result"
    }
   ],
   "source": [
    "total"
   ]
  },
  {
   "cell_type": "code",
   "execution_count": 128,
   "metadata": {},
   "outputs": [],
   "source": [
    "# data1 = total.loc[total.label == 1][\"instruction\"]  # 所用虚假中餐的菜谱\n",
    "data1 = total[\"instruction\"]\n",
    "nouns1 = []\n",
    "verbs1 = []\n",
    "nv1 = []\n",
    "for recipe in data1:\n",
    "    doc = nlp(recipe)\n",
    "    lines = []\n",
    "    for token in doc:\n",
    "        p = token.pos_\n",
    "        if token.is_stop == False and token.lemma_.isalpha() == True and len(token)>=2:\n",
    "            if(p==\"NOUN\"):\n",
    "                nouns1.append(token.lemma_)\n",
    "            elif(p==\"VERB\"):\n",
    "                verbs1.append(token.lemma_)\n",
    "            lines.append(token.lemma_)\n",
    "    nv1.append(lines)"
   ]
  },
  {
   "cell_type": "code",
   "execution_count": 184,
   "metadata": {},
   "outputs": [
    {
     "data": {
      "text/plain": [
       "[(0,\n",
       "  '0.033*\"add\" + 0.023*\"minute\" + 0.022*\"heat\" + 0.022*\"sauce\" + 0.019*\"oil\" + 0.019*\"cook\" + 0.019*\"stir\" + 0.013*\"chicken\" + 0.012*\"water\" + 0.011*\"bowl\" + 0.010*\"large\" + 0.009*\"medium\" + 0.009*\"fry\" + 0.009*\"serve\" + 0.009*\"rice\" + 0.009*\"pepper\" + 0.008*\"onion\" + 0.008*\"soy\" + 0.008*\"pan\" + 0.008*\"garlic\"'),\n",
       " (1,\n",
       "  '0.025*\"add\" + 0.022*\"minute\" + 0.019*\"oil\" + 0.019*\"water\" + 0.015*\"fry\" + 0.013*\"heat\" + 0.013*\"sauce\" + 0.011*\"mix\" + 0.010*\"stir\" + 0.010*\"cook\" + 0.009*\"wok\" + 0.009*\"transfer\" + 0.009*\"serve\" + 0.009*\"bowl\" + 0.008*\"small\" + 0.008*\"pork\" + 0.008*\"salt\" + 0.008*\"tablespoon\" + 0.007*\"place\" + 0.007*\"cut\"')]"
      ]
     },
     "execution_count": 184,
     "metadata": {},
     "output_type": "execute_result"
    }
   ],
   "source": [
    "## 作者主题模型\n",
    "from gensim.corpora.dictionary import Dictionary\n",
    "from gensim.models import AuthorTopicModel\n",
    "dct = Dictionary(nv1)\n",
    "corpus = [dct.doc2bow(text) for text in nv1]\n",
    "\n",
    "author2doc = {\"zhengzong\": list(range(241)),\n",
    "             \"xujia\":list(range(241, 482))}\n",
    "\n",
    "model = AuthorTopicModel(corpus, num_topics=2, id2word=dct, author2doc=author2doc,\n",
    "                 passes=100, random_state=0)\n",
    "\n",
    "model.print_topics(num_topics=2, num_words=20)"
   ]
  },
  {
   "cell_type": "code",
   "execution_count": 185,
   "metadata": {},
   "outputs": [
    {
     "data": {
      "text/plain": [
       "[(0, 0.9999367496221552)]"
      ]
     },
     "execution_count": 185,
     "metadata": {},
     "output_type": "execute_result"
    }
   ],
   "source": [
    "model['xujia']\n",
    "model.get_author_topics(\"zhengzong\")"
   ]
  },
  {
   "cell_type": "code",
   "execution_count": 186,
   "metadata": {},
   "outputs": [
    {
     "data": {
      "text/plain": [
       "[(1, 0.9999533996789978)]"
      ]
     },
     "execution_count": 186,
     "metadata": {},
     "output_type": "execute_result"
    }
   ],
   "source": []
  },
  {
   "cell_type": "code",
   "execution_count": 73,
   "metadata": {},
   "outputs": [],
   "source": [
    "from sklearn.feature_extraction.text import TfidfVectorizer\n",
    "\n",
    "df = total[[\"label\",\"instruction\"]]\n",
    "\n",
    "vectorizer = TfidfVectorizer(stop_words=\"english\")\n",
    "corpus = df[\"instruction\"]\n",
    "reviews = vectorizer.fit_transform(corpus)"
   ]
  },
  {
   "cell_type": "code",
   "execution_count": 74,
   "metadata": {},
   "outputs": [
    {
     "data": {
      "text/plain": [
       "(482, 3136)"
      ]
     },
     "execution_count": 74,
     "metadata": {},
     "output_type": "execute_result"
    }
   ],
   "source": [
    "reviews.shape"
   ]
  },
  {
   "cell_type": "code",
   "execution_count": 75,
   "metadata": {},
   "outputs": [
    {
     "data": {
      "text/plain": [
       "0.2157676348547718"
      ]
     },
     "execution_count": 75,
     "metadata": {},
     "output_type": "execute_result"
    }
   ],
   "source": [
    "from sklearn.cluster import KMeans\n",
    "kmeans = KMeans(n_clusters=2, random_state=0, n_init=20).fit(reviews)\n",
    "# figsize(4, 3)\n",
    "# pd.value_counts(kmeans.labels_).plot(kind='bar', rot=0)\n",
    "sum(kmeans.labels_==total[\"label\"])/total.shape[0]    ###### 21.6%"
   ]
  },
  {
   "cell_type": "code",
   "execution_count": 76,
   "metadata": {},
   "outputs": [
    {
     "data": {
      "text/plain": [
       "0.3941908713692946"
      ]
     },
     "execution_count": 76,
     "metadata": {},
     "output_type": "execute_result"
    }
   ],
   "source": [
    "from sklearn_extra.cluster import KMedoids\n",
    "kmedoids = KMedoids(n_clusters=2, random_state=0).fit(reviews)\n",
    "# pd.value_counts(kmedoids.labels_).plot(kind='bar', rot=0)\n",
    "sum(kmedoids.labels_==total[\"label\"])/total.shape[0] ##### 39.4%"
   ]
  },
  {
   "cell_type": "code",
   "execution_count": 77,
   "metadata": {},
   "outputs": [
    {
     "data": {
      "image/png": "[encoded data removed]",
      "text/plain": [
       "<Figure size 900x288 with 2 Axes>"
      ]
     },
     "metadata": {
      "needs_background": "light"
     },
     "output_type": "display_data"
    }
   ],
   "source": [
    "plt.figure(12)\n",
    "figsize(12.5, 4)\n",
    "plt.subplot(121)\n",
    "pd.value_counts(kmeans.labels_).plot(kind='bar', rot=0)\n",
    "plt.title('k-means correct rate=21.6%')\n",
    " \n",
    "plt.subplot(122)\n",
    "pd.value_counts(kmedoids.labels_).plot(kind='bar', rot=0)\n",
    "plt.title('k-medoids correct rate=39.4%')\n",
    "\n",
    "plt.show()"
   ]
  },
  {
   "cell_type": "code",
   "execution_count": 107,
   "metadata": {},
   "outputs": [
    {
     "data": {
      "text/plain": [
       "(361, 3136)"
      ]
     },
     "execution_count": 107,
     "metadata": {},
     "output_type": "execute_result"
    }
   ],
   "source": [
    "from sklearn import svm\n",
    "from sklearn.model_selection import train_test_split\n",
    "from sklearn.metrics import roc_curve, auc\n",
    "\n",
    "X = reviews\n",
    "y = total[\"label\"]\n",
    "X_train, X_test, y_train, y_test = train_test_split(X, y, test_size=0.25,random_state = 0)   # 361 vs 121\n",
    "X_train.shape"
   ]
  },
  {
   "cell_type": "code",
   "execution_count": 108,
   "metadata": {},
   "outputs": [
    {
     "name": "stdout",
     "output_type": "stream",
     "text": [
      "0.9338842975206612\n"
     ]
    }
   ],
   "source": [
    "mdl = svm.SVC(kernel='linear', random_state=0)  # rbf, sigmoid, polynomial\n",
    "mdl = mdl.fit(X_train, y_train)\n",
    "y_pred = mdl.predict(X_test)\n",
    "y_pred1 = mdl.predict(X_train)\n",
    "# print(sum(y_pred1==y_train)/X_train.shape[0])  #\n",
    "print(sum(y_pred==y_test)/X_test.shape[0])  # 93.4%"
   ]
  },
  {
   "cell_type": "code",
   "execution_count": 109,
   "metadata": {},
   "outputs": [
    {
     "name": "stdout",
     "output_type": "stream",
     "text": [
      "[[56  3]\n",
      " [ 5 57]]\n",
      "              precision    recall  f1-score   support\n",
      "\n",
      "           0       0.92      0.95      0.93        59\n",
      "           1       0.95      0.92      0.93        62\n",
      "\n",
      "    accuracy                           0.93       121\n",
      "   macro avg       0.93      0.93      0.93       121\n",
      "weighted avg       0.93      0.93      0.93       121\n",
      "\n"
     ]
    }
   ],
   "source": [
    "y_score = mdl.decision_function(X_test)\n",
    "\n",
    "fpr,tpr,threshold = roc_curve(y_test, y_score) ###计算真正率和假正率\n",
    "\n",
    "roc_auc = auc(fpr,tpr) ###计算auc的值\n",
    " \n",
    "# plt.figure()\n",
    "# plt.figure(figsize=(10,10))\n",
    "# plt.plot(fpr, tpr, color=\"darkorange\",\n",
    "#          lw=3, label=\"ROC curve (Area = %0.2f)\" % roc_auc) \n",
    "# plt.plot([0, 1], [0, 1], lw=3, linestyle='--')\n",
    "# plt.xticks(fontsize=15)\n",
    "# plt.yticks(fontsize=15)\n",
    "# plt.xlabel('False Positive Rate', fontsize=20)\n",
    "# plt.ylabel('True Positive Rate', fontsize=20)\n",
    "# plt.title('ROC curve for Support Vector Classification', fontsize=20)\n",
    "# plt.legend(loc='lower right', fontsize=20)\n",
    "# plt.show()\n",
    "\n",
    "print(confusion_matrix(y_test, y_pred))\n",
    "print(classification_report(y_test, y_pred))"
   ]
  },
  {
   "cell_type": "code",
   "execution_count": 110,
   "metadata": {},
   "outputs": [
    {
     "name": "stdout",
     "output_type": "stream",
     "text": [
      "0.9421487603305785\n"
     ]
    }
   ],
   "source": [
    "from sklearn.neural_network import MLPClassifier\n",
    "clf = MLPClassifier(activation='relu', hidden_layer_sizes=(100, 50), random_state=0)\n",
    "clf = clf.fit(X_train, y_train)\n",
    "y_pred = clf.predict(X_test)\n",
    "y_pred2 = clf.predict(X_train)\n",
    "# print(sum(y_pred2==y_train)/X_train.shape[0])  \n",
    "print(sum(y_pred==y_test)/X_test.shape[0])  # 94.2%"
   ]
  },
  {
   "cell_type": "code",
   "execution_count": 111,
   "metadata": {},
   "outputs": [
    {
     "name": "stdout",
     "output_type": "stream",
     "text": [
      "[[57  2]\n",
      " [ 5 57]]\n",
      "              precision    recall  f1-score   support\n",
      "\n",
      "           0       0.92      0.97      0.94        59\n",
      "           1       0.97      0.92      0.94        62\n",
      "\n",
      "    accuracy                           0.94       121\n",
      "   macro avg       0.94      0.94      0.94       121\n",
      "weighted avg       0.94      0.94      0.94       121\n",
      "\n"
     ]
    }
   ],
   "source": [
    "y_proba = clf.predict_proba(X_test)\n",
    "# y_proba[:,1]\n",
    "fpr1,tpr1,threshold1 = roc_curve(y_test, y_proba[:,1]) ###计算真正率和假正率\n",
    "\n",
    "roc_auc = auc(fpr1,tpr1) ###计算auc的值\n",
    " \n",
    "# plt.figure()\n",
    "# plt.figure(figsize=(10,10))\n",
    "# plt.plot(fpr1, tpr1, color=\"darkorange\",\n",
    "#          lw=3, label=\"ROC curve (Area = %0.2f)\" % roc_auc) \n",
    "# plt.plot([0, 1], [0, 1], lw=3, linestyle='--')\n",
    "# plt.xticks(fontsize=15)\n",
    "# plt.yticks(fontsize=15)\n",
    "# plt.xlabel('False Positive Rate', fontsize=20)\n",
    "# plt.ylabel('True Positive Rate', fontsize=20)\n",
    "# plt.title('ROC curve for Multi-layer Perceptron classifier', fontsize=20)\n",
    "# plt.legend(loc='lower right', fontsize=20)\n",
    "# plt.show()\n",
    "\n",
    "print(confusion_matrix(y_test, y_pred))\n",
    "print(classification_report(y_test, y_pred))"
   ]
  },
  {
   "cell_type": "code",
   "execution_count": 188,
   "metadata": {},
   "outputs": [
    {
     "data": {
      "image/png": "[encoded data removed]",
      "text/plain": [
       "<Figure size 900x288 with 2 Axes>"
      ]
     },
     "metadata": {
      "needs_background": "light"
     },
     "output_type": "display_data"
    }
   ],
   "source": [
    "plt.figure(12)\n",
    "figsize(12.5, 4)\n",
    "plt.subplot(121)\n",
    "plt.plot(fpr, tpr, color=\"darkorange\",\n",
    "         lw=3, label=\"ROC curve (Area = %0.2f)\" % roc_auc) \n",
    "plt.plot([0, 1], [0, 1], lw=3, linestyle='--')\n",
    "plt.xticks(fontsize=15)\n",
    "plt.yticks(fontsize=15)\n",
    "plt.xlabel('False Positive Rate', fontsize=10)\n",
    "plt.ylabel('True Positive Rate', fontsize=10)\n",
    "plt.title('SVM correct rate=93.4% ')\n",
    "plt.legend(loc='lower right')\n",
    " \n",
    "plt.subplot(122)\n",
    "plt.plot(fpr1, tpr1, color=\"darkorange\",\n",
    "         lw=3, label=\"ROC curve (Area = %0.2f)\" % roc_auc) \n",
    "plt.plot([0, 1], [0, 1], lw=3, linestyle='--')\n",
    "plt.xticks(fontsize=15)\n",
    "plt.yticks(fontsize=15)\n",
    "plt.xlabel('False Positive Rate', fontsize=10)\n",
    "plt.ylabel('True Positive Rate', fontsize=10)\n",
    "plt.title('NN correct rate=94.2%')\n",
    "plt.legend(loc='lower right')\n",
    "\n",
    "plt.show()"
   ]
  },
  {
   "cell_type": "code",
   "execution_count": null,
   "metadata": {},
   "outputs": [],
   "source": []
  }
 ],
 "metadata": {
  "kernelspec": {
   "display_name": "Python 3",
   "language": "python",
   "name": "python3"
  },
  "language_info": {
   "codemirror_mode": {
    "name": "ipython",
    "version": 3
   },
   "file_extension": ".py",
   "mimetype": "text/x-python",
   "name": "python",
   "nbconvert_exporter": "python",
   "pygments_lexer": "ipython3",
   "version": "3.7.4"
  }
 },
 "nbformat": 4,
 "nbformat_minor": 2
}
